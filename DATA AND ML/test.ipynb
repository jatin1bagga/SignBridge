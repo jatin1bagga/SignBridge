{
 "cells": [
  {
   "cell_type": "code",
   "execution_count": 1,
   "id": "53e19ac7",
   "metadata": {},
   "outputs": [
    {
     "name": "stdout",
     "output_type": "stream",
     "text": [
      "❌ Error: could not open port 'COM3': OSError(22, 'The semaphore timeout period has expired.', None, 121)\n"
     ]
    }
   ],
   "source": [
    "import serial\n",
    "import time\n",
    "\n",
    "def read_glove(port_name, file_name, duration_sec=15):\n",
    "    try:\n",
    "        ser = serial.Serial(port_name, 115200)\n",
    "        print(f\"✅ Connected to {port_name}. Recording {duration_sec} seconds of data...\")\n",
    "        \n",
    "        with open(f\"{file_name}.csv\", \"w\") as f:\n",
    "            start_time = time.time()\n",
    "            while time.time() - start_time < duration_sec:\n",
    "                line = ser.readline().decode('utf-8', errors='ignore').strip()\n",
    "                print(line)\n",
    "                f.write(line + \"\\n\")\n",
    "\n",
    "        print(f\"✅ Recording complete. Data saved to {file_name}.csv\")\n",
    "\n",
    "    except Exception as e:\n",
    "        print(f\"❌ Error: {e}\")\n",
    "\n",
    "# 🔁 CHANGE THIS:\n",
    "com_port = \"COM3\"            # Replace with your COM port\n",
    "csv_file_name = \"SingleGlove\"  # File name without .csv extension\n",
    "\n",
    "read_glove(com_port, csv_file_name)\n"
   ]
  },
  {
   "cell_type": "code",
   "execution_count": null,
   "id": "a33481ed",
   "metadata": {},
   "outputs": [],
   "source": []
  }
 ],
 "metadata": {
  "kernelspec": {
   "display_name": "glove",
   "language": "python",
   "name": "python3"
  },
  "language_info": {
   "codemirror_mode": {
    "name": "ipython",
    "version": 3
   },
   "file_extension": ".py",
   "mimetype": "text/x-python",
   "name": "python",
   "nbconvert_exporter": "python",
   "pygments_lexer": "ipython3",
   "version": "3.11.9"
  }
 },
 "nbformat": 4,
 "nbformat_minor": 5
}
